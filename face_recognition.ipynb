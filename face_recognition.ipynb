{
 "cells": [
  {
   "cell_type": "markdown",
   "id": "eaefedda",
   "metadata": {},
   "source": [
    "# 1. Setup\n",
    "## 1.1 Install dependencies"
   ]
  },
  {
   "cell_type": "code",
   "execution_count": 74,
   "id": "d0ccd9c4",
   "metadata": {},
   "outputs": [],
   "source": [
    "# !pip list "
   ]
  },
  {
   "cell_type": "code",
   "execution_count": 75,
   "id": "f8b79abc",
   "metadata": {},
   "outputs": [],
   "source": [
    "#!pip install opencv-python"
   ]
  },
  {
   "cell_type": "markdown",
   "id": "28d0dc6b",
   "metadata": {},
   "source": [
    "## 1.2 Import dependencies "
   ]
  },
  {
   "cell_type": "code",
   "execution_count": 76,
   "id": "b7aca255",
   "metadata": {},
   "outputs": [],
   "source": [
    "# Import standard dependencies\n",
    "import cv2\n",
    "import os\n",
    "import random\n",
    "import numpy as np \n",
    "from matplotlib import pyplot as plt"
   ]
  },
  {
   "cell_type": "code",
   "execution_count": 77,
   "id": "3f1363ca",
   "metadata": {},
   "outputs": [],
   "source": [
    "# Import tensorflow dependencies - Functional API\n",
    "from tensorflow.keras.models import Model \n",
    "from tensorflow.keras.layers import Layer, Conv2D, Dense, MaxPooling2D, Input, Flatten\n",
    "import tensorflow as tf "
   ]
  },
  {
   "cell_type": "markdown",
   "id": "3afbe8a8",
   "metadata": {},
   "source": [
    "## 1.3 Set GPU Growth  "
   ]
  },
  {
   "cell_type": "code",
   "execution_count": 78,
   "id": "38d35eca",
   "metadata": {},
   "outputs": [],
   "source": [
    "# Avoid OOM errors by setting GPU Memory Consumption Growth \n",
    "gpus = tf.config.experimental.list_physical_devices('GPU')\n",
    "for gpu in gpus:\n",
    "    tf.config.experimental.set_memory_growth(gpu, True)"
   ]
  },
  {
   "cell_type": "markdown",
   "id": "728f1140",
   "metadata": {},
   "source": [
    "## 1.4 Create folder structures "
   ]
  },
  {
   "cell_type": "code",
   "execution_count": 79,
   "id": "f95f00b2",
   "metadata": {},
   "outputs": [],
   "source": [
    "# Setup path\n",
    "path_list = { 'POS_PATH' : os.path.join('data', 'positive'), \n",
    "              'NEG_PATH' : os.path.join('data', 'negative'), \n",
    "              'ANC_PATH' : os.path.join('data', 'anchor')}"
   ]
  },
  {
   "cell_type": "code",
   "execution_count": 80,
   "id": "4cf9a2f3",
   "metadata": {},
   "outputs": [],
   "source": [
    "# # Creating path\n",
    "# for path in path_list:\n",
    "#     if not os.path.exists(path_list[path]):\n",
    "#         os.makedirs(path_list[path])"
   ]
  },
  {
   "cell_type": "markdown",
   "id": "9204f061",
   "metadata": {},
   "source": [
    "# Collect Positives and Anchors  "
   ]
  },
  {
   "cell_type": "markdown",
   "id": "ea32c340",
   "metadata": {},
   "source": [
    "## 2.1 Untar Labelled Faces in Wild Dataset "
   ]
  },
  {
   "cell_type": "code",
   "execution_count": 81,
   "id": "bceb681e",
   "metadata": {},
   "outputs": [],
   "source": [
    "# http://vis-www.cs.umass.edu/lfw/"
   ]
  },
  {
   "cell_type": "code",
   "execution_count": 82,
   "id": "45b94054",
   "metadata": {},
   "outputs": [],
   "source": [
    "# # Uncompress Tar GZ Labelled Faces in the Wild Dataset\n",
    "# !tar -xf lfw.tgz"
   ]
  },
  {
   "cell_type": "code",
   "execution_count": 83,
   "id": "cb73d253",
   "metadata": {},
   "outputs": [],
   "source": [
    "# # Move LFW Images to the following repo data/negative \n",
    "# for directory in os.listdir('lfw'):\n",
    "#     for file in os.listdir(os.path.join('lfw', directory)):\n",
    "#         EX_PATH = os.path.join('lfw',directory, file)\n",
    "#         NEW_PATH = os.path.join(path_list['NEG_PATH'], file)\n",
    "#         os.replace(EX_PATH, NEW_PATH)"
   ]
  },
  {
   "cell_type": "markdown",
   "id": "bc1c0ed5",
   "metadata": {},
   "source": [
    "## 2.2 Collect postive and Anchor classes"
   ]
  },
  {
   "cell_type": "code",
   "execution_count": 84,
   "id": "eb0bbd37",
   "metadata": {},
   "outputs": [],
   "source": [
    "# Import uuid to generate unique image names\n",
    "import uuid"
   ]
  },
  {
   "cell_type": "code",
   "execution_count": 85,
   "id": "053bcc83",
   "metadata": {},
   "outputs": [],
   "source": [
    "# Establish a connection with the webcam \n",
    "cap = cv2.VideoCapture(0)\n",
    "while cap.isOpened():\n",
    "    ret, frame = cap.read()\n",
    "    \n",
    "    # Crop down the frame\n",
    "    frame = frame[120:120+250, 120:120+250, :]\n",
    "    \n",
    "    # Collect anchor image\n",
    "    if cv2.waitKey(1) & 0XFF == ord('a'):\n",
    "        imagename = os.path.join(path_list['ANC_PATH'], '{}.jpg'.format(uuid.uuid1()))\n",
    "        cv2.imwrite(imagename, frame)\n",
    "    \n",
    "    # Collect positive image\n",
    "    if cv2.waitKey(1) & 0XFF == ord('p'):\n",
    "        imagename = os.path.join(path_list['POS_PATH'], '{}.jpg'.format(uuid.uuid1()))\n",
    "        cv2.imwrite(imagename, frame)\n",
    "    \n",
    "    # Show image back to screen \n",
    "    cv2.imshow('Image Collectio', frame)\n",
    "    \n",
    "    # Breaking gracefully\n",
    "    if cv2.waitKey(1) & 0XFF == ord('q'):\n",
    "        break\n",
    "\n",
    "# Release the webcam\n",
    "cap.release()\n",
    "# Close the image show frame\n",
    "cv2.destroyAllWindows()                            "
   ]
  },
  {
   "cell_type": "code",
   "execution_count": 86,
   "id": "0ca53076",
   "metadata": {},
   "outputs": [],
   "source": [
    "# plt.imshow(frame)"
   ]
  },
  {
   "cell_type": "markdown",
   "id": "bd928ecd",
   "metadata": {},
   "source": [
    "# 3. Load and Preprocess Images\n",
    "## 3.1 Get Image Directories"
   ]
  },
  {
   "cell_type": "code",
   "execution_count": 87,
   "id": "f30e429b",
   "metadata": {},
   "outputs": [],
   "source": [
    "anchor = tf.data.Dataset.list_files(path_list['ANC_PATH']+'\\*.jpg').take(300)\n",
    "positive = tf.data.Dataset.list_files(path_list['POS_PATH']+'\\*.jpg').take(300)\n",
    "negative = tf.data.Dataset.list_files(path_list['NEG_PATH']+'\\*.jpg').take(300)"
   ]
  },
  {
   "cell_type": "code",
   "execution_count": 88,
   "id": "9dfeae77",
   "metadata": {},
   "outputs": [
    {
     "data": {
      "text/plain": [
       "b'data\\\\anchor\\\\dfc99ac0-4bfc-11ec-b729-145afc2444fe.jpg'"
      ]
     },
     "execution_count": 88,
     "metadata": {},
     "output_type": "execute_result"
    }
   ],
   "source": [
    "# dir test \n",
    "dir_test = anchor.as_numpy_iterator()\n",
    "dir_test.next()"
   ]
  },
  {
   "cell_type": "markdown",
   "id": "27b36aef",
   "metadata": {},
   "source": [
    "## 3.2 Preprocessing - Scale and Resize "
   ]
  },
  {
   "cell_type": "code",
   "execution_count": 89,
   "id": "1a808cb9",
   "metadata": {},
   "outputs": [],
   "source": [
    "def preprocess(file_path):\n",
    "    #Read in image file from path\n",
    "    img = tf.io.read_file(file_path)\n",
    "    #Load in image\n",
    "    img = tf.io.decode_jpeg(img)\n",
    "    # Preprocessing steps - resizing the image to be 100x100x3\n",
    "    img = tf.image.resize(img, (100, 100))\n",
    "    # Scale image to be between 0 and 1\n",
    "    img = img/255.0\n",
    "    \n",
    "    # Return image\n",
    "    return img"
   ]
  },
  {
   "cell_type": "code",
   "execution_count": 90,
   "id": "29f33164",
   "metadata": {},
   "outputs": [],
   "source": [
    "img = preprocess('data\\\\anchor\\\\eb272d40-4bfc-11ec-bb99-145afc2444fe.jpg')"
   ]
  },
  {
   "cell_type": "code",
   "execution_count": 91,
   "id": "eb6d3029",
   "metadata": {},
   "outputs": [
    {
     "data": {
      "text/plain": [
       "0.89362746"
      ]
     },
     "execution_count": 91,
     "metadata": {},
     "output_type": "execute_result"
    }
   ],
   "source": [
    "img.numpy().max()"
   ]
  },
  {
   "cell_type": "code",
   "execution_count": 92,
   "id": "ccbf3d82",
   "metadata": {},
   "outputs": [
    {
     "data": {
      "text/plain": [
       "<matplotlib.image.AxesImage at 0x17e5e98d1f0>"
      ]
     },
     "execution_count": 92,
     "metadata": {},
     "output_type": "execute_result"
    },
    {
     "data": {
      "image/png": "[encoded data removed]",
      "text/plain": [
       "<Figure size 432x288 with 1 Axes>"
      ]
     },
     "metadata": {
      "needs_background": "light"
     },
     "output_type": "display_data"
    }
   ],
   "source": [
    "plt.imshow(img)"
   ]
  },
  {
   "cell_type": "markdown",
   "id": "67de7385",
   "metadata": {},
   "source": [
    "## 3.3 Create labelled Dataset"
   ]
  },
  {
   "cell_type": "code",
   "execution_count": 93,
   "id": "9a920d6a",
   "metadata": {},
   "outputs": [],
   "source": [
    "positives = tf.data.Dataset.zip((anchor, positive, tf.data.Dataset.from_tensor_slices(tf.ones(len(anchor)))))\n",
    "negatives = tf.data.Dataset.zip((anchor, negative, tf.data.Dataset.from_tensor_slices(tf.zeros(len(anchor)))))\n",
    "data = positives.concatenate(negatives)"
   ]
  },
  {
   "cell_type": "code",
   "execution_count": 94,
   "id": "7f36724f",
   "metadata": {},
   "outputs": [],
   "source": [
    "samples = data.as_numpy_iterator()\n",
    "example = samples.next()"
   ]
  },
  {
   "cell_type": "code",
   "execution_count": 95,
   "id": "87fca0ff",
   "metadata": {},
   "outputs": [
    {
     "data": {
      "text/plain": [
       "(b'data\\\\anchor\\\\ec65aaf4-4bfc-11ec-bbf4-145afc2444fe.jpg',\n",
       " b'data\\\\positive\\\\04c48772-4bfd-11ec-a1cd-145afc2444fe.jpg',\n",
       " 1.0)"
      ]
     },
     "execution_count": 95,
     "metadata": {},
     "output_type": "execute_result"
    }
   ],
   "source": [
    "example"
   ]
  },
  {
   "cell_type": "markdown",
   "id": "37875809",
   "metadata": {},
   "source": [
    "## 3.4 Build Train and Test Partition"
   ]
  },
  {
   "cell_type": "code",
   "execution_count": 96,
   "id": "5459308b",
   "metadata": {},
   "outputs": [],
   "source": [
    "def preprocess_twin(input_img, validation_img, label):\n",
    "    return (preprocess(input_img), preprocess(validation_img), label)"
   ]
  },
  {
   "cell_type": "code",
   "execution_count": 97,
   "id": "5229f996",
   "metadata": {},
   "outputs": [],
   "source": [
    "res = preprocess_twin(*example)"
   ]
  },
  {
   "cell_type": "code",
   "execution_count": 98,
   "id": "bf434583",
   "metadata": {},
   "outputs": [
    {
     "name": "stdout",
     "output_type": "stream",
     "text": [
      "1.0\n"
     ]
    }
   ],
   "source": [
    "print(res[2])"
   ]
  },
  {
   "cell_type": "code",
   "execution_count": 99,
   "id": "572e948c",
   "metadata": {},
   "outputs": [],
   "source": [
    "# Build dataloader pipeline \n",
    "data = data.map(preprocess_twin)\n",
    "data = data.cache()\n",
    "data = data.shuffle(buffer_size=1024)"
   ]
  },
  {
   "cell_type": "code",
   "execution_count": 100,
   "id": "2d6ce119",
   "metadata": {},
   "outputs": [],
   "source": [
    "# Training partition\n",
    "train_data = data.take(round(len(data)*.7))\n",
    "train_data = train_data.batch(16)\n",
    "train_data = train_data.prefetch(8)"
   ]
  },
  {
   "cell_type": "code",
   "execution_count": 101,
   "id": "8ec76519",
   "metadata": {},
   "outputs": [],
   "source": [
    "# Testing partition\n",
    "test_data = data.skip\n",
    "test_data = data.take(round(len(data)*.7))\n",
    "test_data = train_data.batch(16)\n",
    "test_data = train_data.prefetch(8)"
   ]
  },
  {
   "cell_type": "markdown",
   "id": "de979e92",
   "metadata": {},
   "source": [
    "# Model Engineering "
   ]
  },
  {
   "cell_type": "markdown",
   "id": "46d6d549",
   "metadata": {},
   "source": [
    "## 4.1 Building Embedding Layer "
   ]
  },
  {
   "cell_type": "code",
   "execution_count": 102,
   "id": "3d91fbae",
   "metadata": {},
   "outputs": [],
   "source": [
    "def make_embedding():\n",
    "    inp = Input(shape=(100,100,3), name='input_image')\n",
    "    \n",
    "    # first block\n",
    "    c1 = Conv2D(64, (10,10), activation='relu')(inp)\n",
    "    m1 = MaxPooling2D(64, (2,2), padding='same')(c1)\n",
    "    \n",
    "    #second block\n",
    "    c2 = Conv2D(128, (7,7), activation='relu')(m1)\n",
    "    m2 = MaxPooling2D(64, (2,2), padding='same')(c2)\n",
    "    \n",
    "    #third block\n",
    "    c3 = Conv2D(128, (4,4), activation='relu')(m2)\n",
    "    m3 = MaxPooling2D(64, (2,2), padding='same')(c3)\n",
    "    \n",
    "    #final embedded block\n",
    "    c4 = Conv2D(256, (4,4), activation='relu')(m3)\n",
    "    f1 = Flatten()(c4)\n",
    "    d1 = Dense(4096, activation='sigmoid')(f1)\n",
    "    \n",
    "    return Model(inputs=[inp], outputs=[d1], name='embedded')"
   ]
  },
  {
   "cell_type": "code",
   "execution_count": 103,
   "id": "ead4a630",
   "metadata": {},
   "outputs": [],
   "source": [
    "embedding = make_embedding()"
   ]
  },
  {
   "cell_type": "code",
   "execution_count": 104,
   "id": "48bccafb",
   "metadata": {},
   "outputs": [
    {
     "name": "stdout",
     "output_type": "stream",
     "text": [
      "Model: \"embedded\"\n",
      "_________________________________________________________________\n",
      " Layer (type)                Output Shape              Param #   \n",
      "=================================================================\n",
      " input_image (InputLayer)    [(None, 100, 100, 3)]     0         \n",
      "                                                                 \n",
      " conv2d_4 (Conv2D)           (None, 91, 91, 64)        19264     \n",
      "                                                                 \n",
      " max_pooling2d_3 (MaxPooling  (None, 46, 46, 64)       0         \n",
      " 2D)                                                             \n",
      "                                                                 \n",
      " conv2d_5 (Conv2D)           (None, 40, 40, 128)       401536    \n",
      "                                                                 \n",
      " max_pooling2d_4 (MaxPooling  (None, 20, 20, 128)      0         \n",
      " 2D)                                                             \n",
      "                                                                 \n",
      " conv2d_6 (Conv2D)           (None, 17, 17, 128)       262272    \n",
      "                                                                 \n",
      " max_pooling2d_5 (MaxPooling  (None, 9, 9, 128)        0         \n",
      " 2D)                                                             \n",
      "                                                                 \n",
      " conv2d_7 (Conv2D)           (None, 6, 6, 256)         524544    \n",
      "                                                                 \n",
      " flatten_1 (Flatten)         (None, 9216)              0         \n",
      "                                                                 \n",
      " dense_2 (Dense)             (None, 4096)              37752832  \n",
      "                                                                 \n",
      "=================================================================\n",
      "Total params: 38,960,448\n",
      "Trainable params: 38,960,448\n",
      "Non-trainable params: 0\n",
      "_________________________________________________________________\n"
     ]
    }
   ],
   "source": [
    "embedding.summary()"
   ]
  },
  {
   "cell_type": "markdown",
   "id": "8e329839",
   "metadata": {},
   "source": [
    "## 4.2 Building Distance Layer"
   ]
  },
  {
   "cell_type": "code",
   "execution_count": 105,
   "id": "070094ce",
   "metadata": {},
   "outputs": [],
   "source": [
    "# Siamese L1 Distance class\n",
    "class L1Dist(Layer):\n",
    "    \n",
    "    def __init__(self, **kwargs):\n",
    "        super().__init__()\n",
    "        \n",
    "    def call(self, input_embedding, validation_embedding):\n",
    "        return tf.math.abs(input_embedding - validation_embedding)\n",
    "    "
   ]
  },
  {
   "cell_type": "markdown",
   "id": "64dcfff7",
   "metadata": {},
   "source": [
    "## 4.3 Make Siamese Model "
   ]
  },
  {
   "cell_type": "code",
   "execution_count": 106,
   "id": "31df45d4",
   "metadata": {},
   "outputs": [],
   "source": [
    "def make_siamese_model():\n",
    "    \n",
    "    # Anchor image input in the network\n",
    "    input_image = Input(name='input_img', shape= (100,100,3))\n",
    "    \n",
    "    # Validation image in the network\n",
    "    validation_image = Input(name='validation_img', shape=(100,100,3))\n",
    "    \n",
    "    # Combine siamese distance components \n",
    "    siamese_layer = L1Dist()\n",
    "    siamese_layer._name = 'distance'\n",
    "    \n",
    "    distances = siamese_layer(embedding(input_image), embedding(validation_image))\n",
    "    \n",
    "    classifier = Dense(1, activation='sigmoid')(distances)\n",
    "    \n",
    "    return Model(inputs=[input_image, validation_image], outputs=[classifier], name='SiameseNetwork')"
   ]
  },
  {
   "cell_type": "code",
   "execution_count": 107,
   "id": "3c5a3c49",
   "metadata": {},
   "outputs": [],
   "source": [
    "siamese_model = make_siamese_model()"
   ]
  },
  {
   "cell_type": "code",
   "execution_count": 108,
   "id": "0610ac65",
   "metadata": {},
   "outputs": [
    {
     "name": "stdout",
     "output_type": "stream",
     "text": [
      "Model: \"SiameseNetwork\"\n",
      "__________________________________________________________________________________________________\n",
      " Layer (type)                   Output Shape         Param #     Connected to                     \n",
      "==================================================================================================\n",
      " input_img (InputLayer)         [(None, 100, 100, 3  0           []                               \n",
      "                                )]                                                                \n",
      "                                                                                                  \n",
      " validation_img (InputLayer)    [(None, 100, 100, 3  0           []                               \n",
      "                                )]                                                                \n",
      "                                                                                                  \n",
      " embedded (Functional)          (None, 4096)         38960448    ['input_img[0][0]',              \n",
      "                                                                  'validation_img[0][0]']         \n",
      "                                                                                                  \n",
      " distance (L1Dist)              (None, 4096)         0           ['embedded[0][0]',               \n",
      "                                                                  'embedded[1][0]']               \n",
      "                                                                                                  \n",
      " dense_3 (Dense)                (None, 1)            4097        ['distance[0][0]']               \n",
      "                                                                                                  \n",
      "==================================================================================================\n",
      "Total params: 38,964,545\n",
      "Trainable params: 38,964,545\n",
      "Non-trainable params: 0\n",
      "__________________________________________________________________________________________________\n"
     ]
    }
   ],
   "source": [
    "siamese_model.summary()"
   ]
  },
  {
   "cell_type": "markdown",
   "id": "255aaf6b",
   "metadata": {},
   "source": [
    "# 5. Training"
   ]
  },
  {
   "cell_type": "markdown",
   "id": "e9e749a8",
   "metadata": {},
   "source": [
    "## 5.1 Setup Loss and Optimizer "
   ]
  },
  {
   "cell_type": "code",
   "execution_count": 109,
   "id": "a3ab33f6",
   "metadata": {},
   "outputs": [],
   "source": [
    "# Binary crossentropy loss\n",
    "binary_cross_loss = tf.losses.BinaryCrossentropy()"
   ]
  },
  {
   "cell_type": "code",
   "execution_count": 110,
   "id": "ecaeb44b",
   "metadata": {},
   "outputs": [],
   "source": [
    "# Adam optimizer\n",
    "opt = tf.keras.optimizers.Adam(1e-4)"
   ]
  },
  {
   "cell_type": "markdown",
   "id": "7f3f635b",
   "metadata": {},
   "source": [
    "## 5.2 Establish Checkpoints "
   ]
  },
  {
   "cell_type": "code",
   "execution_count": 111,
   "id": "765e1d15",
   "metadata": {},
   "outputs": [],
   "source": [
    "checkpoint_dir = os.path.join('training_checkpoints')"
   ]
  },
  {
   "cell_type": "code",
   "execution_count": 112,
   "id": "deba524e",
   "metadata": {},
   "outputs": [],
   "source": [
    "if not os.path.exists(checkpoint_dir):\n",
    "    os.makedirs(checkpoint_dir)"
   ]
  },
  {
   "cell_type": "code",
   "execution_count": 113,
   "id": "581f56b4",
   "metadata": {},
   "outputs": [],
   "source": [
    "checkpoint_prefix = os.path.join(checkpoint_dir, 'ckpt')"
   ]
  },
  {
   "cell_type": "code",
   "execution_count": 114,
   "id": "b98627ef",
   "metadata": {},
   "outputs": [],
   "source": [
    "if not os.path.exists(checkpoint_prefix):\n",
    "    os.makedirs(checkpoint_prefix)"
   ]
  },
  {
   "cell_type": "code",
   "execution_count": 115,
   "id": "7351ae40",
   "metadata": {},
   "outputs": [],
   "source": [
    "checkpoint = tf.train.Checkpoint(opt=opt, siamese_model=siamese_model)"
   ]
  },
  {
   "cell_type": "markdown",
   "id": "2cbe4669",
   "metadata": {},
   "source": [
    "## 5.3 Build Train Step Function "
   ]
  },
  {
   "cell_type": "code",
   "execution_count": 116,
   "id": "1c3f6747",
   "metadata": {},
   "outputs": [],
   "source": [
    "@tf.function\n",
    "def train_step(batch):\n",
    "    #Record all of our operations\n",
    "    with tf.GradientTape() as tape:\n",
    "        # Get anchor and positive/negative image\n",
    "        X = batch[:2]\n",
    "        # Get label \n",
    "        y = batch[2]\n",
    "        \n",
    "        # Forward pass\n",
    "        yhat = siamese_model(X, training=True)\n",
    "        #Calculate loss\n",
    "        loss = binary_cross_loss(y, yhat)\n",
    "        \n",
    "    # Calculate gradient\n",
    "    grad = tape.gradient(loss, siamese_model.trainable_variables)\n",
    "    \n",
    "    # Calculate updated weights and apply to siamese model\n",
    "    opt.apply_gradients(zip(grad, siamese_model.trainable_variables))\n",
    "        \n",
    "    # Return loss\n",
    "    return loss"
   ]
  },
  {
   "cell_type": "markdown",
   "id": "266cb2ab",
   "metadata": {},
   "source": [
    "## 5.4 Build Training Loop"
   ]
  },
  {
   "cell_type": "code",
   "execution_count": 117,
   "id": "4ef811aa",
   "metadata": {},
   "outputs": [],
   "source": [
    "def train(data, EPOCHS):\n",
    "    # Loop through epochs\n",
    "    for epoch in range(1, EPOCHS+1):\n",
    "        print('\\n Epoch {}/{}'.format(epoch, EPOCHS))\n",
    "        progbar = tf.keras.utils.Progbar(len(data))\n",
    "        \n",
    "        # Loop through each batch\n",
    "        for idx, batch in enumerate(data):\n",
    "            # Run training step\n",
    "            train_step(batch)\n",
    "            progbar.update(idx+1)\n",
    "        \n",
    "        # Save checkpoint\n",
    "        if epoch % 10 == 0:\n",
    "            checkpoint.save(file_prefix=checkpoint_prefix)"
   ]
  },
  {
   "cell_type": "markdown",
   "id": "39f524ae",
   "metadata": {},
   "source": [
    "## 5.5 Train the model "
   ]
  },
  {
   "cell_type": "code",
   "execution_count": 118,
   "id": "4adf7bb1",
   "metadata": {},
   "outputs": [],
   "source": [
    "EPOCHS = 50"
   ]
  },
  {
   "cell_type": "code",
   "execution_count": 119,
   "id": "9b2160d4",
   "metadata": {},
   "outputs": [
    {
     "name": "stdout",
     "output_type": "stream",
     "text": [
      "\n",
      " Epoch 1/50\n",
      "27/27 [==============================] - 7s 175ms/step\n",
      "\n",
      " Epoch 2/50\n",
      "27/27 [==============================] - 4s 162ms/step\n",
      "\n",
      " Epoch 3/50\n",
      "27/27 [==============================] - 4s 154ms/step\n",
      "\n",
      " Epoch 4/50\n",
      "27/27 [==============================] - 4s 141ms/step\n",
      "\n",
      " Epoch 5/50\n",
      "27/27 [==============================] - 4s 141ms/step\n",
      "\n",
      " Epoch 6/50\n",
      "27/27 [==============================] - 4s 142ms/step\n",
      "\n",
      " Epoch 7/50\n",
      "27/27 [==============================] - 4s 142ms/step\n",
      "\n",
      " Epoch 8/50\n",
      "27/27 [==============================] - 4s 140ms/step\n",
      "\n",
      " Epoch 9/50\n",
      "27/27 [==============================] - 4s 141ms/step\n",
      "\n",
      " Epoch 10/50\n",
      "27/27 [==============================] - 4s 141ms/step\n",
      "\n",
      " Epoch 11/50\n",
      "27/27 [==============================] - 4s 140ms/step\n",
      "\n",
      " Epoch 12/50\n",
      "27/27 [==============================] - 4s 140ms/step\n",
      "\n",
      " Epoch 13/50\n",
      "27/27 [==============================] - 4s 141ms/step\n",
      "\n",
      " Epoch 14/50\n",
      "27/27 [==============================] - 4s 141ms/step\n",
      "\n",
      " Epoch 15/50\n",
      "27/27 [==============================] - 4s 140ms/step\n",
      "\n",
      " Epoch 16/50\n",
      "27/27 [==============================] - 4s 142ms/step\n",
      "\n",
      " Epoch 17/50\n",
      "27/27 [==============================] - 4s 156ms/step\n",
      "\n",
      " Epoch 18/50\n",
      "27/27 [==============================] - 4s 145ms/step\n",
      "\n",
      " Epoch 19/50\n",
      "27/27 [==============================] - 5s 172ms/step\n",
      "\n",
      " Epoch 20/50\n",
      "27/27 [==============================] - 5s 183ms/step\n",
      "\n",
      " Epoch 21/50\n",
      "27/27 [==============================] - 4s 172ms/step\n",
      "\n",
      " Epoch 22/50\n",
      "27/27 [==============================] - 5s 203ms/step\n",
      "\n",
      " Epoch 23/50\n",
      "27/27 [==============================] - 5s 172ms/step\n",
      "\n",
      " Epoch 24/50\n",
      "27/27 [==============================] - 4s 168ms/step\n",
      "\n",
      " Epoch 25/50\n",
      "27/27 [==============================] - 4s 164ms/step\n",
      "\n",
      " Epoch 26/50\n",
      "27/27 [==============================] - 4s 162ms/step\n",
      "\n",
      " Epoch 27/50\n",
      "27/27 [==============================] - 4s 164ms/step\n",
      "\n",
      " Epoch 28/50\n",
      "27/27 [==============================] - 4s 163ms/step\n",
      "\n",
      " Epoch 29/50\n",
      "27/27 [==============================] - 4s 163ms/step\n",
      "\n",
      " Epoch 30/50\n",
      "27/27 [==============================] - 4s 163ms/step\n",
      "\n",
      " Epoch 31/50\n",
      "27/27 [==============================] - 4s 165ms/step\n",
      "\n",
      " Epoch 32/50\n",
      "27/27 [==============================] - 4s 141ms/step\n",
      "\n",
      " Epoch 33/50\n",
      "27/27 [==============================] - 4s 166ms/step\n",
      "\n",
      " Epoch 34/50\n",
      "27/27 [==============================] - 4s 163ms/step\n",
      "\n",
      " Epoch 35/50\n",
      "27/27 [==============================] - 4s 165ms/step\n",
      "\n",
      " Epoch 36/50\n",
      "27/27 [==============================] - 4s 163ms/step\n",
      "\n",
      " Epoch 37/50\n",
      "27/27 [==============================] - 4s 165ms/step\n",
      "\n",
      " Epoch 38/50\n",
      "27/27 [==============================] - 4s 163ms/step\n",
      "\n",
      " Epoch 39/50\n",
      "27/27 [==============================] - 4s 164ms/step\n",
      "\n",
      " Epoch 40/50\n",
      "27/27 [==============================] - 4s 163ms/step\n",
      "\n",
      " Epoch 41/50\n",
      "27/27 [==============================] - 4s 163ms/step\n",
      "\n",
      " Epoch 42/50\n",
      "27/27 [==============================] - 4s 163ms/step\n",
      "\n",
      " Epoch 43/50\n",
      "27/27 [==============================] - 4s 162ms/step\n",
      "\n",
      " Epoch 44/50\n",
      "27/27 [==============================] - 4s 163ms/step\n",
      "\n",
      " Epoch 45/50\n",
      "27/27 [==============================] - 4s 164ms/step\n",
      "\n",
      " Epoch 46/50\n",
      "27/27 [==============================] - 5s 171ms/step\n",
      "\n",
      " Epoch 47/50\n",
      "27/27 [==============================] - 4s 169ms/step\n",
      "\n",
      " Epoch 48/50\n",
      "27/27 [==============================] - 4s 161ms/step\n",
      "\n",
      " Epoch 49/50\n",
      "27/27 [==============================] - 4s 142ms/step\n",
      "\n",
      " Epoch 50/50\n",
      "27/27 [==============================] - 4s 145ms/step\n"
     ]
    }
   ],
   "source": [
    "train(train_data, EPOCHS)"
   ]
  },
  {
   "cell_type": "markdown",
   "id": "a9f94861",
   "metadata": {},
   "source": [
    "# 6. Evaluate Model"
   ]
  },
  {
   "cell_type": "markdown",
   "id": "57461db2",
   "metadata": {},
   "source": [
    "## 6.1 Import Metrics "
   ]
  },
  {
   "cell_type": "code",
   "execution_count": 120,
   "id": "6668e48e",
   "metadata": {},
   "outputs": [],
   "source": [
    "# Import metrics calculations\n",
    "from tensorflow.keras.metrics import Precision, Recall"
   ]
  },
  {
   "cell_type": "markdown",
   "id": "224cb392",
   "metadata": {},
   "source": [
    "## 6.2 Make Preductions "
   ]
  },
  {
   "cell_type": "code",
   "execution_count": 121,
   "id": "f7c9c8ea",
   "metadata": {},
   "outputs": [],
   "source": [
    "# Get a batch of test data\n",
    "test_input, test_val, y_true = test_data.as_numpy_iterator().next()"
   ]
  },
  {
   "cell_type": "code",
   "execution_count": 122,
   "id": "ebe588ce",
   "metadata": {},
   "outputs": [
    {
     "data": {
      "text/plain": [
       "array([[4.1712287e-06],\n",
       "       [1.0000000e+00],\n",
       "       [6.0524326e-06],\n",
       "       [9.4941512e-05],\n",
       "       [1.6397101e-09],\n",
       "       [9.9997604e-01],\n",
       "       [2.0558992e-10],\n",
       "       [9.9999976e-01],\n",
       "       [1.0000000e+00],\n",
       "       [1.0000000e+00],\n",
       "       [1.1450325e-08],\n",
       "       [9.9996710e-01],\n",
       "       [9.9933511e-01],\n",
       "       [1.0000000e+00],\n",
       "       [9.3245797e-07],\n",
       "       [1.7169926e-07]], dtype=float32)"
      ]
     },
     "execution_count": 122,
     "metadata": {},
     "output_type": "execute_result"
    }
   ],
   "source": [
    "y_hat = siamese_model.predict([test_input, test_val])\n",
    "y_hat"
   ]
  },
  {
   "cell_type": "code",
   "execution_count": 123,
   "id": "6670eba0",
   "metadata": {},
   "outputs": [
    {
     "data": {
      "text/plain": [
       "[0, 1, 0, 0, 0, 1, 0, 1, 1, 1, 0, 1, 1, 1, 0, 0]"
      ]
     },
     "execution_count": 123,
     "metadata": {},
     "output_type": "execute_result"
    }
   ],
   "source": [
    "# Post processing\n",
    "[1 if prediction > 0.5 else 0 for prediction in y_hat]"
   ]
  },
  {
   "cell_type": "code",
   "execution_count": 124,
   "id": "14182636",
   "metadata": {},
   "outputs": [
    {
     "data": {
      "text/plain": [
       "array([0., 1., 0., 0., 0., 1., 0., 1., 1., 1., 0., 1., 1., 1., 0., 0.],\n",
       "      dtype=float32)"
      ]
     },
     "execution_count": 124,
     "metadata": {},
     "output_type": "execute_result"
    }
   ],
   "source": [
    "y_true"
   ]
  },
  {
   "cell_type": "markdown",
   "id": "6c6b3cdf",
   "metadata": {},
   "source": [
    "## 6.3 Calculate Metrics "
   ]
  },
  {
   "cell_type": "code",
   "execution_count": 125,
   "id": "1b626a7e",
   "metadata": {},
   "outputs": [
    {
     "data": {
      "text/plain": [
       "1.0"
      ]
     },
     "execution_count": 125,
     "metadata": {},
     "output_type": "execute_result"
    }
   ],
   "source": [
    "# Creating a Recall metrics object\n",
    "m = Recall()\n",
    "\n",
    "# Calculating the recall value\n",
    "m.update_state(y_true, y_hat)\n",
    "\n",
    "# Return Recall Result\n",
    "m.result().numpy()"
   ]
  },
  {
   "cell_type": "code",
   "execution_count": 126,
   "id": "f490d43b",
   "metadata": {},
   "outputs": [
    {
     "data": {
      "text/plain": [
       "1.0"
      ]
     },
     "execution_count": 126,
     "metadata": {},
     "output_type": "execute_result"
    }
   ],
   "source": [
    "# Creating a Precision metrics object\n",
    "p = Precision()\n",
    "\n",
    "# Calculating the recall value\n",
    "p.update_state(y_true, y_hat)\n",
    "\n",
    "# Return Recall Result\n",
    "p.result().numpy()"
   ]
  },
  {
   "cell_type": "markdown",
   "id": "0b87df7a",
   "metadata": {},
   "source": [
    "## 6.4 Visualize Results "
   ]
  },
  {
   "cell_type": "code",
   "execution_count": 127,
   "id": "cdf51a86",
   "metadata": {},
   "outputs": [
    {
     "data": {
      "image/png": "[encoded data removed]",
      "text/plain": [
       "<Figure size 720x576 with 2 Axes>"
      ]
     },
     "metadata": {
      "needs_background": "light"
     },
     "output_type": "display_data"
    }
   ],
   "source": [
    "# Set plot size\n",
    "plt.figure(figsize=(10,8))\n",
    "\n",
    "# Set first subplot \n",
    "plt.subplot(1,2,1)\n",
    "plt.imshow(test_input[5])\n",
    "\n",
    "# Set second subplot \n",
    "plt.subplot(1,2,2)\n",
    "plt.imshow(test_val[5])\n",
    "\n",
    "# Renders cleanly\n",
    "plt.show()"
   ]
  },
  {
   "cell_type": "markdown",
   "id": "f3368eef",
   "metadata": {},
   "source": [
    "# 7. Save model"
   ]
  },
  {
   "cell_type": "code",
   "execution_count": 128,
   "id": "e4fd2415",
   "metadata": {},
   "outputs": [
    {
     "name": "stdout",
     "output_type": "stream",
     "text": [
      "WARNING:tensorflow:Compiled the loaded model, but the compiled metrics have yet to be built. `model.compile_metrics` will be empty until you train or evaluate the model.\n"
     ]
    }
   ],
   "source": [
    "# Save model\n",
    "siamese_model.save('siamese_model.h5')"
   ]
  },
  {
   "cell_type": "code",
   "execution_count": 129,
   "id": "5d8d07b7",
   "metadata": {},
   "outputs": [
    {
     "name": "stdout",
     "output_type": "stream",
     "text": [
      "WARNING:tensorflow:No training configuration found in the save file, so the model was *not* compiled. Compile it manually.\n"
     ]
    }
   ],
   "source": [
    "# Load model\n",
    "model = tf.keras.models.load_model('siamese_model.h5', \n",
    "                                   custom_objects={'L1Dist':L1Dist, 'BinaryCrossentropy':tf.losses.BinaryCrossentropy})"
   ]
  },
  {
   "cell_type": "code",
   "execution_count": 130,
   "id": "233edafc",
   "metadata": {},
   "outputs": [
    {
     "data": {
      "text/plain": [
       "array([[4.1712287e-06],\n",
       "       [1.0000000e+00],\n",
       "       [6.0524326e-06],\n",
       "       [9.4941512e-05],\n",
       "       [1.6397101e-09],\n",
       "       [9.9997604e-01],\n",
       "       [2.0558992e-10],\n",
       "       [9.9999976e-01],\n",
       "       [1.0000000e+00],\n",
       "       [1.0000000e+00],\n",
       "       [1.1450325e-08],\n",
       "       [9.9996710e-01],\n",
       "       [9.9933511e-01],\n",
       "       [1.0000000e+00],\n",
       "       [9.3245797e-07],\n",
       "       [1.7169926e-07]], dtype=float32)"
      ]
     },
     "execution_count": 130,
     "metadata": {},
     "output_type": "execute_result"
    }
   ],
   "source": [
    "model.predict([test_input, test_val])"
   ]
  },
  {
   "cell_type": "code",
   "execution_count": 131,
   "id": "95778f32",
   "metadata": {},
   "outputs": [
    {
     "name": "stdout",
     "output_type": "stream",
     "text": [
      "Model: \"SiameseNetwork\"\n",
      "__________________________________________________________________________________________________\n",
      " Layer (type)                   Output Shape         Param #     Connected to                     \n",
      "==================================================================================================\n",
      " input_img (InputLayer)         [(None, 100, 100, 3  0           []                               \n",
      "                                )]                                                                \n",
      "                                                                                                  \n",
      " validation_img (InputLayer)    [(None, 100, 100, 3  0           []                               \n",
      "                                )]                                                                \n",
      "                                                                                                  \n",
      " embedded (Functional)          (None, 4096)         38960448    ['input_img[0][0]',              \n",
      "                                                                  'validation_img[0][0]']         \n",
      "                                                                                                  \n",
      " l1_dist_3 (L1Dist)             (None, 4096)         0           ['embedded[0][0]',               \n",
      "                                                                  'embedded[1][0]']               \n",
      "                                                                                                  \n",
      " dense_3 (Dense)                (None, 1)            4097        ['l1_dist_3[0][0]']              \n",
      "                                                                                                  \n",
      "==================================================================================================\n",
      "Total params: 38,964,545\n",
      "Trainable params: 38,964,545\n",
      "Non-trainable params: 0\n",
      "__________________________________________________________________________________________________\n"
     ]
    }
   ],
   "source": [
    "model.summary()"
   ]
  },
  {
   "cell_type": "markdown",
   "id": "bfec3ee4",
   "metadata": {},
   "source": [
    "# 8. Real Time Test"
   ]
  },
  {
   "cell_type": "markdown",
   "id": "a51062bc",
   "metadata": {},
   "source": [
    "## 8.1 Verification Function "
   ]
  },
  {
   "cell_type": "code",
   "execution_count": 132,
   "id": "61f4295f",
   "metadata": {},
   "outputs": [],
   "source": [
    "application_data_path = os.path.join('application_data')\n",
    "if not os.path.exists(application_data_path):\n",
    "    os.makedirs(application_data_path)"
   ]
  },
  {
   "cell_type": "code",
   "execution_count": 133,
   "id": "16bf5131",
   "metadata": {},
   "outputs": [],
   "source": [
    "input_iamge_path = os.path.join(application_data_path, 'input_image')\n",
    "if not os.path.exists(input_iamge_path):\n",
    "    os.makedirs(input_iamge_path)"
   ]
  },
  {
   "cell_type": "code",
   "execution_count": 134,
   "id": "415bb321",
   "metadata": {},
   "outputs": [],
   "source": [
    "verification_image_path = os.path.join(application_data_path, 'verification_images')\n",
    "if not os.path.exists(verification_image_path):\n",
    "    os.makedirs(verification_image_path)"
   ]
  },
  {
   "cell_type": "code",
   "execution_count": 135,
   "id": "72277938",
   "metadata": {},
   "outputs": [],
   "source": [
    "# copy random images from positive folder to varification_images folder\n",
    "import random\n",
    "import shutil\n",
    "\n",
    "source = path_list['POS_PATH']\n",
    "dest = verification_image_path\n",
    "\n",
    "files = os.listdir(source)\n",
    "total_files_to_move = 50\n",
    "\n",
    "# for file_name in random.sample(files, total_files_to_move):\n",
    "#     shutil.copy(os.path.join(source, file_name), dest)"
   ]
  },
  {
   "cell_type": "code",
   "execution_count": 142,
   "id": "081e09ba",
   "metadata": {},
   "outputs": [],
   "source": [
    "# Verification function \n",
    "def verify(model, detection_threshold, verification_threshold):\n",
    "    input_image = preprocess(os.path.join(input_iamge_path, 'input_image.jpg'))\n",
    "    \n",
    "    # Build result array\n",
    "    results = []\n",
    "    # Prediction with each image in the verification_image folder\n",
    "    for image in os.listdir(os.path.join('application_data', 'verification_images')):\n",
    "        validation_image = preprocess(os.path.join(verification_image_path, image))\n",
    "        result = model.predict(list(np.expand_dims([input_image, validation_image], axis=1)))\n",
    "        results.append(result)  \n",
    "    # print(results)\n",
    "    # Detection Threshold: Metrics above which a prediction is considered positive\n",
    "    detection = np.sum(np.array(results) > detection_threshold)\n",
    "#     print(\"detection:\", detection)\n",
    "    \n",
    "    # Varification Thershold: ratio of positive predictions / total positives samples\n",
    "    verification = detection / len(os.listdir(verification_image_path))\n",
    "    verified = verification > verification_threshold\n",
    "    \n",
    "    return results, verified"
   ]
  },
  {
   "cell_type": "markdown",
   "id": "8b5c33f3",
   "metadata": {},
   "source": [
    "## 8.2 OpenCV Real Time Verification "
   ]
  },
  {
   "cell_type": "code",
   "execution_count": 143,
   "id": "a2286e00",
   "metadata": {},
   "outputs": [
    {
     "name": "stdout",
     "output_type": "stream",
     "text": [
      "False\n",
      "True\n",
      "True\n",
      "False\n"
     ]
    }
   ],
   "source": [
    "cap = cv2.VideoCapture(0)\n",
    "while cap.isOpened():\n",
    "    ret, frame = cap.read()\n",
    "    frame = frame[120:120+250, 200:200+250, :]\n",
    "    \n",
    "    cv2.imshow('Verifiaction', frame)\n",
    "    \n",
    "    # Verification trigger\n",
    "    if cv2.waitKey(10) & 0xFF == ord('v'):\n",
    "        # same the input frame to input image\n",
    "        cv2.imwrite(os.path.join(input_iamge_path, 'input_image.jpg'), frame)\n",
    "        \n",
    "        # Run verification\n",
    "        results, verified = verify(model, 0.9, 0.7)\n",
    "        print(verified)\n",
    "    \n",
    "    if cv2.waitKey(10) & 0xFF == ord('q'):\n",
    "        break\n",
    "\n",
    "cap.release()\n",
    "cv2.destroyAllWindows()"
   ]
  },
  {
   "cell_type": "code",
   "execution_count": 146,
   "id": "e347bebe",
   "metadata": {},
   "outputs": [
    {
     "name": "stdout",
     "output_type": "stream",
     "text": [
      "[[[0.37462994]]\n",
      "\n",
      " [[0.02491309]]\n",
      "\n",
      " [[0.84640276]]\n",
      "\n",
      " [[0.29844993]]\n",
      "\n",
      " [[0.6305167 ]]\n",
      "\n",
      " [[0.8374704 ]]\n",
      "\n",
      " [[0.92793435]]\n",
      "\n",
      " [[1.        ]]\n",
      "\n",
      " [[0.3413763 ]]\n",
      "\n",
      " [[0.9403763 ]]\n",
      "\n",
      " [[0.19741333]]\n",
      "\n",
      " [[1.        ]]\n",
      "\n",
      " [[0.9988752 ]]\n",
      "\n",
      " [[1.        ]]\n",
      "\n",
      " [[1.        ]]\n",
      "\n",
      " [[1.        ]]\n",
      "\n",
      " [[1.        ]]\n",
      "\n",
      " [[0.9995479 ]]\n",
      "\n",
      " [[0.77669245]]\n",
      "\n",
      " [[0.12297655]]\n",
      "\n",
      " [[1.        ]]\n",
      "\n",
      " [[1.        ]]\n",
      "\n",
      " [[0.79647905]]\n",
      "\n",
      " [[0.831221  ]]\n",
      "\n",
      " [[0.2931918 ]]\n",
      "\n",
      " [[0.26909783]]\n",
      "\n",
      " [[1.        ]]\n",
      "\n",
      " [[0.9999989 ]]\n",
      "\n",
      " [[0.9999999 ]]\n",
      "\n",
      " [[1.        ]]\n",
      "\n",
      " [[1.        ]]\n",
      "\n",
      " [[0.9896808 ]]\n",
      "\n",
      " [[0.992007  ]]\n",
      "\n",
      " [[0.9999871 ]]\n",
      "\n",
      " [[0.99999964]]\n",
      "\n",
      " [[0.88027656]]\n",
      "\n",
      " [[0.9995789 ]]\n",
      "\n",
      " [[0.88114846]]\n",
      "\n",
      " [[0.3423988 ]]\n",
      "\n",
      " [[0.99998796]]\n",
      "\n",
      " [[0.99996805]]\n",
      "\n",
      " [[0.9972875 ]]\n",
      "\n",
      " [[0.9999995 ]]\n",
      "\n",
      " [[0.999231  ]]\n",
      "\n",
      " [[0.9980774 ]]\n",
      "\n",
      " [[0.3527983 ]]\n",
      "\n",
      " [[0.2672486 ]]\n",
      "\n",
      " [[0.5706531 ]]\n",
      "\n",
      " [[0.8998857 ]]\n",
      "\n",
      " [[0.90014714]]]\n"
     ]
    }
   ],
   "source": [
    "print(np.array(results))"
   ]
  },
  {
   "cell_type": "code",
   "execution_count": 147,
   "id": "f7d3d0a2",
   "metadata": {},
   "outputs": [
    {
     "data": {
      "text/plain": [
       "29"
      ]
     },
     "execution_count": 147,
     "metadata": {},
     "output_type": "execute_result"
    }
   ],
   "source": [
    "np.sum(np.array(results)>.9)"
   ]
  },
  {
   "cell_type": "code",
   "execution_count": 148,
   "id": "1c6123fd",
   "metadata": {},
   "outputs": [
    {
     "data": {
      "text/plain": [
       "0.58"
      ]
     },
     "execution_count": 148,
     "metadata": {},
     "output_type": "execute_result"
    }
   ],
   "source": [
    "29/50"
   ]
  },
  {
   "cell_type": "code",
   "execution_count": null,
   "id": "c196bfdd",
   "metadata": {},
   "outputs": [],
   "source": []
  },
  {
   "cell_type": "code",
   "execution_count": null,
   "id": "2628e506",
   "metadata": {},
   "outputs": [],
   "source": []
  },
  {
   "cell_type": "code",
   "execution_count": null,
   "id": "482e5704",
   "metadata": {},
   "outputs": [],
   "source": []
  }
 ],
 "metadata": {
  "kernelspec": {
   "display_name": "face-detection",
   "language": "python",
   "name": "face-detection"
  },
  "language_info": {
   "codemirror_mode": {
    "name": "ipython",
    "version": 3
   },
   "file_extension": ".py",
   "mimetype": "text/x-python",
   "name": "python",
   "nbconvert_exporter": "python",
   "pygments_lexer": "ipython3",
   "version": "3.9.9"
  }
 },
 "nbformat": 4,
 "nbformat_minor": 5
}
